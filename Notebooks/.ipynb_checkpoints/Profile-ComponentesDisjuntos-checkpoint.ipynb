{
 "cells": [
  {
   "cell_type": "markdown",
   "metadata": {},
   "source": [
    "#Profiling inicial del cálculo de compoentnes disjuntos"
   ]
  },
  {
   "cell_type": "markdown",
   "metadata": {},
   "source": [
    "El cálculo de componentes disjuntos de todo el arreglo de desde t1 = 101 hasta t2 = 1000 toma aproximandamente 2 horas. Debido a que el buffer del profiler se llena, se usó solamente t = 1999 para identificar las secciones más pesadas. Este proceso toma aproximadamente 8s.  "
   ]
  },
  {
   "cell_type": "markdown",
   "metadata": {},
   "source": [
    "###Carga inicial de los datos, filtrado y obtención del CSD"
   ]
  },
  {
   "cell_type": "code",
   "execution_count": 1,
   "metadata": {
    "collapsed": true
   },
   "outputs": [],
   "source": [
    "cd(\"/Users/Nes/Desktop/NeuroCiencias/JuliaExperiments/Parallel-Neuroscience/ComponentesDisjuntos\");"
   ]
  },
  {
   "cell_type": "code",
   "execution_count": 2,
   "metadata": {
    "collapsed": false
   },
   "outputs": [],
   "source": [
    "include(\"funcionesCentrosDeMasa.jl\");"
   ]
  },
  {
   "cell_type": "code",
   "execution_count": null,
   "metadata": {
    "collapsed": false
   },
   "outputs": [],
   "source": [
    "include(\"cargaYFiltra.jl\");"
   ]
  },
  {
   "cell_type": "code",
   "execution_count": 19,
   "metadata": {
    "collapsed": true
   },
   "outputs": [],
   "source": [
    "#Contiene el método al que se le aplica el profiling"
   ]
  },
  {
   "cell_type": "code",
   "execution_count": null,
   "metadata": {
    "collapsed": false
   },
   "outputs": [],
   "source": [
    "include(\"minicomponentesDisjuntos.jl\");"
   ]
  },
  {
   "cell_type": "code",
   "execution_count": 12,
   "metadata": {
    "collapsed": true
   },
   "outputs": [],
   "source": [
    "#Ejecución inicial para forzar la compilación"
   ]
  },
  {
   "cell_type": "code",
   "execution_count": 16,
   "metadata": {
    "collapsed": false
   },
   "outputs": [],
   "source": [
    "miniComponentesDisjuntos(CSD);"
   ]
  },
  {
   "cell_type": "markdown",
   "metadata": {},
   "source": [
    "###Profiling"
   ]
  },
  {
   "cell_type": "markdown",
   "metadata": {},
   "source": [
    "Medición inicial del tiempo. El Profiler es estadístico y funciona con muestreo. No ofrece cobertura linea por línea pero despliega un aproximado del costo en la columna count. http://docs.julialang.org/en/release-0.4/manual/profile/"
   ]
  },
  {
   "cell_type": "code",
   "execution_count": 15,
   "metadata": {
    "collapsed": false
   },
   "outputs": [
    {
     "name": "stdout",
     "output_type": "stream",
     "text": [
      "elapsed time: 8.854391545 seconds (920321688 bytes allocated, 69.60% gc time)\n"
     ]
    }
   ],
   "source": [
    "@time miniComponentesDisjuntos(CSD);"
   ]
  },
  {
   "cell_type": "code",
   "execution_count": 22,
   "metadata": {
    "collapsed": false
   },
   "outputs": [
    {
     "ename": "LoadError",
     "evalue": "interrupt\nwhile loading In[22], in expression starting on line 1",
     "output_type": "error",
     "traceback": [
      "interrupt\nwhile loading In[22], in expression starting on line 1",
      "",
      " in rehash at dict.jl:424",
      " in ht_keyindex2 at dict.jl:527",
      " in setindex! at dict.jl:553",
      " in Dict at dict.jl:326",
      " in indexin at array.jl:1158",
      " in miniComponentesDisjuntos at /Users/Nes/Desktop/NeuroCiencias/JuliaExperiments/Parallel-Neuroscience/ComponentesDisjuntos/minicomponentesDisjuntos.jl:32",
      " in anonymous at profile.jl:14"
     ]
    }
   ],
   "source": [
    "@profile miniComponentesDisjuntos(CSD);"
   ]
  },
  {
   "cell_type": "code",
   "execution_count": 18,
   "metadata": {
    "collapsed": false
   },
   "outputs": [
    {
     "name": "stdout",
     "output_type": "stream",
     "text": [
      " Count File                       Function                                 Line\n",
      "     4 ...lia/lib/julia/sys.dylib ==                                         -1\n",
      "    14 ...lia/lib/julia/sys.dylib hash                                       -1\n",
      "    38 ...lia/lib/julia/sys.dylib hash_64_64                                 -1\n",
      "     1 ...lia/lib/julia/sys.dylib map                                        -1\n",
      "     1 ...lia/lib/julia/sys.dylib vcat                                       -1\n",
      "     1 ...lia/lib/julia/sys.dylib with_output_limit                          -1\n",
      "     1 ...lia/lib/julia/sys.dylib zeros                                      -1\n",
      "  6978 ....3/IJulia/src/IJulia.jl eventloop                                 141\n",
      "     1 .../src/execute_request.jl display_dict                               26\n",
      "  6977 .../src/execute_request.jl execute_request_0x535c5df2                177\n",
      "     1 .../src/execute_request.jl execute_request_0x535c5df2                212\n",
      "     1 ...ncionesCentrosDeMasa.jl vecindad8                                  74\n",
      "     1 ...ncionesCentrosDeMasa.jl vecindad8                                  77\n",
      "     1 ...ncionesCentrosDeMasa.jl vecindad8                                  78\n",
      "     3 ...componentesDisjuntos.jl miniComponentesDisjuntos                   29\n",
      "  1801 ...componentesDisjuntos.jl miniComponentesDisjuntos                   30\n",
      "  5171 ...componentesDisjuntos.jl miniComponentesDisjuntos                   32\n",
      "     1 ...componentesDisjuntos.jl miniComponentesDisjuntos                   45\n",
      "     1 ...componentesDisjuntos.jl miniComponentesDisjuntos                   60\n",
      "  1550 abstractarray.jl           ==                                        876\n",
      "     4 abstractarray.jl           ==                                        877\n",
      "     1 abstractarray.jl           ==                                        882\n",
      "     7 abstractarray.jl           ==                                        883\n",
      "     2 abstractarray.jl           ==                                        884\n",
      "     2 abstractarray.jl           ==                                        887\n",
      "     8 abstractarray.jl           isequal                                   851\n",
      "   783 abstractarray.jl           isequal                                   852\n",
      "     1 abstractarray.jl           isequal                                   853\n",
      "     3 abstractarray.jl           isequal                                   859\n",
      "     2 abstractarray.jl           isequal                                   860\n",
      "   156 array.jl                   deleteat!                                 589\n",
      "  5012 array.jl                   indexin                                  1158\n",
      "     3 array.jl                   indexin                                  1159\n",
      "  5012 dict.jl                    Dict                                      326\n",
      "     3 dict.jl                    _setindex!                                533\n",
      "     2 dict.jl                    _setindex!                                535\n",
      "     1 dict.jl                    _setindex!                                538\n",
      "  1852 dict.jl                    _setindex!                                542\n",
      "     5 dict.jl                    ht_keyindex2                              497\n",
      "    66 dict.jl                    ht_keyindex2                              500\n",
      "    10 dict.jl                    ht_keyindex2                              505\n",
      "     1 dict.jl                    ht_keyindex2                              506\n",
      "     1 dict.jl                    ht_keyindex2                              507\n",
      "   816 dict.jl                    ht_keyindex2                              516\n",
      "     2 dict.jl                    ht_keyindex2                              521\n",
      "     1 dict.jl                    ht_keyindex2                              522\n",
      "  1699 dict.jl                    ht_keyindex2                              527\n",
      "     1 dict.jl                    ht_keyindex                               481\n",
      "     1 dict.jl                    rehash                                    409\n",
      "     4 dict.jl                    rehash                                    410\n",
      "   737 dict.jl                    rehash                                    411\n",
      "     2 dict.jl                    rehash                                    416\n",
      "     1 dict.jl                    rehash                                    417\n",
      "     2 dict.jl                    rehash                                    418\n",
      "  1810 dict.jl                    rehash                                    419\n",
      "     1 dict.jl                    rehash                                    420\n",
      "   985 dict.jl                    rehash                                    424\n",
      "     6 dict.jl                    rehash                                    425\n",
      "     1 dict.jl                    rehash                                    426\n",
      "     1 dict.jl                    rehash                                    428\n",
      "     5 dict.jl                    setindex!                                 547\n",
      "     7 dict.jl                    setindex!                                 548\n",
      "  2601 dict.jl                    setindex!                                 553\n",
      "  1858 dict.jl                    setindex!                                 559\n",
      "     1 dict.jl                    setindex!                                 562\n",
      "     7 hashing2.jl                hash                                      160\n",
      "  1287 hashing2.jl                hash                                      161\n",
      "    31 hashing2.jl                hash                                      163\n",
      "     2 hashing2.jl                hash                                      165\n",
      "     1 iostream.jl                sprint                                    229\n",
      "  6977 loading.jl                 include_string                             97\n",
      "     1 multimedia.jl              writemime                                  41\n",
      "  6977 profile.jl                 anonymous                                  14\n",
      "     3 range.jl                   getindex                                  267\n",
      "  1801 reduce.jl                  _mapreduce                                174\n",
      "     5 reduce.jl                  mapreduce_seq_impl                        119\n",
      "     2 reduce.jl                  mapreduce_seq_impl                        120\n",
      "  1794 reduce.jl                  mapreduce_seq_impl                        123\n",
      "     1 replutil.jl                anonymous                                  27\n",
      "     1 replutil.jl                writemime                                  26\n",
      "     1 show.jl                    alignment                                 870\n",
      "     1 show.jl                    print_matrix                              962\n",
      "     1 show.jl                    showarray                                1119\n",
      "  6978 task.jl                    anonymous                                 340\n"
     ]
    }
   ],
   "source": [
    "Profile.print(format=:flat)"
   ]
  },
  {
   "cell_type": "code",
   "execution_count": 23,
   "metadata": {
    "collapsed": true
   },
   "outputs": [],
   "source": [
    "#Visualización del resultado"
   ]
  },
  {
   "cell_type": "code",
   "execution_count": 24,
   "metadata": {
    "collapsed": true
   },
   "outputs": [],
   "source": [
    "using ProfileView"
   ]
  },
  {
   "cell_type": "code",
   "execution_count": null,
   "metadata": {
    "collapsed": true
   },
   "outputs": [],
   "source": []
  }
 ],
 "metadata": {
  "kernelspec": {
   "display_name": "Julia 0.3.12",
   "language": "julia",
   "name": "julia-0.3"
  },
  "language_info": {
   "file_extension": ".jl",
   "mimetype": "application/julia",
   "name": "julia",
   "version": "0.3.12"
  }
 },
 "nbformat": 4,
 "nbformat_minor": 0
}
