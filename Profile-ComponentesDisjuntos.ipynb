{
 "cells": [
  {
   "cell_type": "markdown",
   "metadata": {},
   "source": [
    "#Profiling inicial del cálculo de compoentnes disjuntos"
   ]
  },
  {
   "cell_type": "markdown",
   "metadata": {},
   "source": [
    "El cálculo de componentes disjuntos de todo el arreglo de desde t1 = 101 hasta t2 = 1000 toma aproximandamente 2 horas. Debido a que el buffer del profiler se llena, se usó solamente t = 1999 para identificar las secciones más pesadas. Este proceso toma aproximadamente 8s.  "
   ]
  },
  {
   "cell_type": "markdown",
   "metadata": {},
   "source": [
    "###Carga inicial de los datos, filtrado y obtención del CSD"
   ]
  },
  {
   "cell_type": "code",
   "execution_count": 1,
   "metadata": {
    "collapsed": true
   },
   "outputs": [],
   "source": [
    "cd(\"/Users/Nes/Desktop/NeuroCiencias/JuliaExperiments/Parallel-Neuroscience/ComponentesDisjuntos\");"
   ]
  },
  {
   "cell_type": "code",
   "execution_count": 2,
   "metadata": {
    "collapsed": false
   },
   "outputs": [
    {
     "data": {
      "text/plain": [
       "DropPeques (generic function with 1 method)"
      ]
     },
     "execution_count": 2,
     "metadata": {},
     "output_type": "execute_result"
    }
   ],
   "source": [
    "include(\"funcionesCentrosDeMasa.jl\")"
   ]
  },
  {
   "cell_type": "code",
   "execution_count": 4,
   "metadata": {
    "collapsed": false
   },
   "outputs": [
    {
     "data": {
      "text/plain": [
       "64x64x5001 Array{Real,3}:\n",
       "[:, :, 1] =\n",
       "   3.36661  -4.30473   0          9.22137  …  -11.3332    2.58436  -3.60641\n",
       "   0        -5.99538   0          3.36787       0        11.1074    2.59565\n",
       "  -4.16163   0         0        -10.8341        0         2.71327   0      \n",
       "  -6.29825  15.9548   10.0344   -10.2809       -3.89138  -6.70241  -8.33203\n",
       "   0        14.1955    5.81631   -1.90815       0         0         0      \n",
       "  -2.96316  -1.6286   -5.64676   -3.56571  …    1.33542   7.73407   6.02068\n",
       "   2.97967  -1.47511  -5.23713   -4.84836       4.59554   7.61228   1.36038\n",
       "   0         1.82582   2.03541    2.70508       6.13003   5.82368  -1.44046\n",
       "  -1.60046   1.48565   3.27445    6.6873       -1.0589   -1.83186  -2.88749\n",
       "   5.28194  -3.35276   1.91906    4.87493      -3.71682  -1.45399   4.12261\n",
       "   3.00822  -3.20367   3.34282   -2.63775  …    0         0         6.8521 \n",
       "   0        -6.12423   0         -4.40567       0        -3.76392   6.41231\n",
       "   7.88272  -1.89595  -8.7683    -9.82638      -4.41723  -4.8885    3.79676\n",
       "   ⋮                                       ⋱                               \n",
       "   4.37039   2.85013  -3.65059    0             0         3.14616   0      \n",
       "   3.9191   -1.96742  -8.36841   -2.66731      -1.13888   3.17528   2.37023\n",
       "  -1.48874  -4.03314  -9.06794   -3.45331      -6.3815   -2.20417   0      \n",
       "  10.1887    6.31909  -3.40481   -2.24417  …   -6.5697   -8.32408   0      \n",
       "   2.38552   4.95796   0         -3.94755      -5.21813  -2.95545   3.8878 \n",
       "  -9.20233  -1.17113  -2.44047   -8.432         0         5.40703   2.82191\n",
       "   0         6.35657   2.08463   -6.42418       2.28623   2.55339   2.43437\n",
       "   2.37481   5.59007   1.33794   -6.45688       2.03936  -1.78251  -4.28892\n",
       "  -3.19172   6.79841   6.10992   -4.57864  …    1.3018    4.32117  -4.34934\n",
       " -10.2434    9.23455  10.2014     0            -1.06716   2.02323  -4.45117\n",
       " -10.2171    8.22685   9.6912    -2.23375      -1.8946    0        -5.92455\n",
       "  -5.16833  -3.23121  -3.06766   -4.07335       4.96189  11.0767   -5.45557\n",
       "\n",
       "[:, :, 2] =\n",
       "  2.46765  -5.46155   1.44896   9.79082  …  -8.29077    2.43053  -3.68168\n",
       "  0        -4.76896   1.45969   3.6795       1.74908    9.55534   1.68207\n",
       " -3.46903   0         0        -9.60671      0          2.21885   0      \n",
       " -3.9074   13.442     7.1152   -9.77804     -2.94616   -4.91276  -6.65675\n",
       "  0        11.5514    4.51036  -1.05245      0          1.08791  -1.35761\n",
       " -2.73732  -1.35276  -5.04568  -2.30118  …   1.45836    6.93036   4.42275\n",
       "  1.54812  -1.05312  -4.65667  -3.42059      4.25245    7.32148   0      \n",
       "  0         1.76064   1.22446   2.02251      5.73638    5.2678   -1.51688\n",
       "  0         1.50648   1.4092    4.50031     -1.22951   -2.32832  -2.5655 \n",
       "  3.63381  -1.76311   1.56738   3.45573     -3.85737   -1.88023   3.45174\n",
       "  2.0814   -1.29749   3.60932  -1.98076  …   0          0         6.10904\n",
       " -1.40277  -5.00983   0        -3.38367     -1.0975    -3.47525   5.086  \n",
       "  6.04099  -1.33591  -6.86105  -7.75677     -3.89218   -5.92965   2.45661\n",
       "  ⋮                                      ⋱                               \n",
       "  5.06726   2.8835   -3.48222  -1.2031       0          0         0      \n",
       "  3.8079   -1.30324  -6.56323  -2.72002      0          1.69712   2.36575\n",
       " -1.01446  -3.32313  -7.25619  -2.69943     -4.26162   -1.24385   1.48103\n",
       "  8.54277   5.10648  -3.23508  -2.40915  …  -5.42105   -8.19097   0      \n",
       "  1.77669   5.01742   0        -4.11603     -4.34035   -3.28437   3.0017 \n",
       " -6.56273   0        -1.69078  -6.34848      0          5.02446   3.56535\n",
       "  0         4.80147   0        -5.74492      1.37386    1.51574   2.83051\n",
       "  2.99171   4.07306   0        -5.64188      1.14793   -2.02698  -2.506  \n",
       " -1.83477   5.43042   4.56413  -3.53105  …   0.992165   2.4252   -3.31512\n",
       " -8.57362   6.94155   8.01249   0            0          0        -4.38072\n",
       " -9.32057   6.30747   7.13726  -1.88903      0          0        -5.6307 \n",
       " -4.41541  -1.04944  -2.05154  -2.68914      9.29919    9.76634  -5.55218\n",
       "\n",
       "[:, :, 3] =\n",
       "  1.485    -6.18188   2.46925  10.2004   …  -5.32438   2.32054  -3.89098\n",
       "  0        -3.39738   1.8946    3.6049       2.27222   7.93875   0      \n",
       " -2.94539   0        -1.07682  -8.35526      0         1.80334   0      \n",
       " -1.80913  10.8751    4.54988  -8.95634     -1.97068  -3.05261  -5.06453\n",
       "  0         9.01647   3.38023   0            1.30521   1.94896  -2.02227\n",
       " -2.76132  -1.12164  -4.37063  -1.25534  …   1.65131   6.37369   3.10074\n",
       "  0         0        -3.89319  -1.97591      3.38145   6.72397   0      \n",
       "  0         1.83761   0         1.42011      4.77862   4.22556  -1.73993\n",
       "  0         1.45959   0         2.44786     -1.24964  -2.65362  -2.29845\n",
       "  2.17739   0         1.08999   2.08277     -3.89791  -1.98594   2.97561\n",
       "  1.26792   0         3.78371  -1.17204  …   0         0         5.43928\n",
       " -2.65979  -3.87286   0        -2.50129     -2.08941  -3.21959   3.58543\n",
       "  3.97342   0        -4.80337  -5.55807     -3.26394  -6.86015   1.0501 \n",
       "  ⋮                                      ⋱                              \n",
       "  5.37737   2.92451  -3.34492  -2.04764      0         0         0      \n",
       "  3.74578   0        -4.76285  -2.83595      0         0         2.28349\n",
       "  0        -2.78058  -5.62637  -2.15625     -2.24345   0         2.23479\n",
       "  7.39259   3.54392  -2.984    -2.35888  …  -4.24935  -7.79523   0      \n",
       "  1.50759   4.70889   0        -3.82087     -3.32124  -3.31729   2.23736\n",
       " -4.31517   0         0        -4.3791       1.39774   4.58078   3.9396 \n",
       "  1.5993    3.3544    0        -5.12149      0         0         2.61792\n",
       "  3.78426   2.75792  -1.96743  -4.72508      0        -2.10493   0      \n",
       "  0         4.02394   3.0175   -2.53981  …   0         0        -2.09758\n",
       " -7.08183   4.76081   6.00402   0            0        -1.12304  -4.21666\n",
       " -7.99969   4.42817   4.76498  -1.39998      1.2059   -1.0084   -5.17825\n",
       " -3.31294   0        -1.61504  -1.41151     12.9669    8.41145  -5.57887\n",
       "\n",
       "...\n",
       "\n",
       "[:, :, 4999] =\n",
       " 0  0  0  0  0  0  0  0  0  0  0  0  0  …  0  0  0  0  0  0  0  0  0  0  0  0\n",
       " 0  0  0  0  0  0  0  0  0  0  0  0  0     0  0  0  0  0  0  0  0  0  0  0  0\n",
       " 0  0  0  0  0  0  0  0  0  0  0  0  0     0  0  0  0  0  0  0  0  0  0  0  0\n",
       " 0  0  0  0  0  0  0  0  0  0  0  0  0     0  0  0  0  0  0  0  0  0  0  0  0\n",
       " 0  0  0  0  0  0  0  0  0  0  0  0  0     0  0  0  0  0  0  0  0  0  0  0  0\n",
       " 0  0  0  0  0  0  0  0  0  0  0  0  0  …  0  0  0  0  0  0  0  0  0  0  0  0\n",
       " 0  0  0  0  0  0  0  0  0  0  0  0  0     0  0  0  0  0  0  0  0  0  0  0  0\n",
       " 0  0  0  0  0  0  0  0  0  0  0  0  0     0  0  0  0  0  0  0  0  0  0  0  0\n",
       " 0  0  0  0  0  0  0  0  0  0  0  0  0     0  0  0  0  0  0  0  0  0  0  0  0\n",
       " 0  0  0  0  0  0  0  0  0  0  0  0  0     0  0  0  0  0  0  0  0  0  0  0  0\n",
       " 0  0  0  0  0  0  0  0  0  0  0  0  0  …  0  0  0  0  0  0  0  0  0  0  0  0\n",
       " 0  0  0  0  0  0  0  0  0  0  0  0  0     0  0  0  0  0  0  0  0  0  0  0  0\n",
       " 0  0  0  0  0  0  0  0  0  0  0  0  0     0  0  0  0  0  0  0  0  0  0  0  0\n",
       " ⋮              ⋮              ⋮        ⋱           ⋮              ⋮         \n",
       " 0  0  0  0  0  0  0  0  0  0  0  0  0     0  0  0  0  0  0  0  0  0  0  0  0\n",
       " 0  0  0  0  0  0  0  0  0  0  0  0  0     0  0  0  0  0  0  0  0  0  0  0  0\n",
       " 0  0  0  0  0  0  0  0  0  0  0  0  0     0  0  0  0  0  0  0  0  0  0  0  0\n",
       " 0  0  0  0  0  0  0  0  0  0  0  0  0  …  0  0  0  0  0  0  0  0  0  0  0  0\n",
       " 0  0  0  0  0  0  0  0  0  0  0  0  0     0  0  0  0  0  0  0  0  0  0  0  0\n",
       " 0  0  0  0  0  0  0  0  0  0  0  0  0     0  0  0  0  0  0  0  0  0  0  0  0\n",
       " 0  0  0  0  0  0  0  0  0  0  0  0  0     0  0  0  0  0  0  0  0  0  0  0  0\n",
       " 0  0  0  0  0  0  0  0  0  0  0  0  0     0  0  0  0  0  0  0  0  0  0  0  0\n",
       " 0  0  0  0  0  0  0  0  0  0  0  0  0  …  0  0  0  0  0  0  0  0  0  0  0  0\n",
       " 0  0  0  0  0  0  0  0  0  0  0  0  0     0  0  0  0  0  0  0  0  0  0  0  0\n",
       " 0  0  0  0  0  0  0  0  0  0  0  0  0     0  0  0  0  0  0  0  0  0  0  0  0\n",
       " 0  0  0  0  0  0  0  0  0  0  0  0  0     0  0  0  0  0  0  0  0  0  0  0  0\n",
       "\n",
       "[:, :, 5000] =\n",
       " 0  0  0  0  0  0  0  0  0  0  0  0  0  …  0  0  0  0  0  0  0  0  0  0  0  0\n",
       " 0  0  0  0  0  0  0  0  0  0  0  0  0     0  0  0  0  0  0  0  0  0  0  0  0\n",
       " 0  0  0  0  0  0  0  0  0  0  0  0  0     0  0  0  0  0  0  0  0  0  0  0  0\n",
       " 0  0  0  0  0  0  0  0  0  0  0  0  0     0  0  0  0  0  0  0  0  0  0  0  0\n",
       " 0  0  0  0  0  0  0  0  0  0  0  0  0     0  0  0  0  0  0  0  0  0  0  0  0\n",
       " 0  0  0  0  0  0  0  0  0  0  0  0  0  …  0  0  0  0  0  0  0  0  0  0  0  0\n",
       " 0  0  0  0  0  0  0  0  0  0  0  0  0     0  0  0  0  0  0  0  0  0  0  0  0\n",
       " 0  0  0  0  0  0  0  0  0  0  0  0  0     0  0  0  0  0  0  0  0  0  0  0  0\n",
       " 0  0  0  0  0  0  0  0  0  0  0  0  0     0  0  0  0  0  0  0  0  0  0  0  0\n",
       " 0  0  0  0  0  0  0  0  0  0  0  0  0     0  0  0  0  0  0  0  0  0  0  0  0\n",
       " 0  0  0  0  0  0  0  0  0  0  0  0  0  …  0  0  0  0  0  0  0  0  0  0  0  0\n",
       " 0  0  0  0  0  0  0  0  0  0  0  0  0     0  0  0  0  0  0  0  0  0  0  0  0\n",
       " 0  0  0  0  0  0  0  0  0  0  0  0  0     0  0  0  0  0  0  0  0  0  0  0  0\n",
       " ⋮              ⋮              ⋮        ⋱           ⋮              ⋮         \n",
       " 0  0  0  0  0  0  0  0  0  0  0  0  0     0  0  0  0  0  0  0  0  0  0  0  0\n",
       " 0  0  0  0  0  0  0  0  0  0  0  0  0     0  0  0  0  0  0  0  0  0  0  0  0\n",
       " 0  0  0  0  0  0  0  0  0  0  0  0  0     0  0  0  0  0  0  0  0  0  0  0  0\n",
       " 0  0  0  0  0  0  0  0  0  0  0  0  0  …  0  0  0  0  0  0  0  0  0  0  0  0\n",
       " 0  0  0  0  0  0  0  0  0  0  0  0  0     0  0  0  0  0  0  0  0  0  0  0  0\n",
       " 0  0  0  0  0  0  0  0  0  0  0  0  0     0  0  0  0  0  0  0  0  0  0  0  0\n",
       " 0  0  0  0  0  0  0  0  0  0  0  0  0     0  0  0  0  0  0  0  0  0  0  0  0\n",
       " 0  0  0  0  0  0  0  0  0  0  0  0  0     0  0  0  0  0  0  0  0  0  0  0  0\n",
       " 0  0  0  0  0  0  0  0  0  0  0  0  0  …  0  0  0  0  0  0  0  0  0  0  0  0\n",
       " 0  0  0  0  0  0  0  0  0  0  0  0  0     0  0  0  0  0  0  0  0  0  0  0  0\n",
       " 0  0  0  0  0  0  0  0  0  0  0  0  0     0  0  0  0  0  0  0  0  0  0  0  0\n",
       " 0  0  0  0  0  0  0  0  0  0  0  0  0     0  0  0  0  0  0  0  0  0  0  0  0\n",
       "\n",
       "[:, :, 5001] =\n",
       " 0  0  0  0  0  0  0  0  0  0  0  0  0  …  0  0  0  0  0  0  0  0  0  0  0  0\n",
       " 0  0  0  0  0  0  0  0  0  0  0  0  0     0  0  0  0  0  0  0  0  0  0  0  0\n",
       " 0  0  0  0  0  0  0  0  0  0  0  0  0     0  0  0  0  0  0  0  0  0  0  0  0\n",
       " 0  0  0  0  0  0  0  0  0  0  0  0  0     0  0  0  0  0  0  0  0  0  0  0  0\n",
       " 0  0  0  0  0  0  0  0  0  0  0  0  0     0  0  0  0  0  0  0  0  0  0  0  0\n",
       " 0  0  0  0  0  0  0  0  0  0  0  0  0  …  0  0  0  0  0  0  0  0  0  0  0  0\n",
       " 0  0  0  0  0  0  0  0  0  0  0  0  0     0  0  0  0  0  0  0  0  0  0  0  0\n",
       " 0  0  0  0  0  0  0  0  0  0  0  0  0     0  0  0  0  0  0  0  0  0  0  0  0\n",
       " 0  0  0  0  0  0  0  0  0  0  0  0  0     0  0  0  0  0  0  0  0  0  0  0  0\n",
       " 0  0  0  0  0  0  0  0  0  0  0  0  0     0  0  0  0  0  0  0  0  0  0  0  0\n",
       " 0  0  0  0  0  0  0  0  0  0  0  0  0  …  0  0  0  0  0  0  0  0  0  0  0  0\n",
       " 0  0  0  0  0  0  0  0  0  0  0  0  0     0  0  0  0  0  0  0  0  0  0  0  0\n",
       " 0  0  0  0  0  0  0  0  0  0  0  0  0     0  0  0  0  0  0  0  0  0  0  0  0\n",
       " ⋮              ⋮              ⋮        ⋱           ⋮              ⋮         \n",
       " 0  0  0  0  0  0  0  0  0  0  0  0  0     0  0  0  0  0  0  0  0  0  0  0  0\n",
       " 0  0  0  0  0  0  0  0  0  0  0  0  0     0  0  0  0  0  0  0  0  0  0  0  0\n",
       " 0  0  0  0  0  0  0  0  0  0  0  0  0     0  0  0  0  0  0  0  0  0  0  0  0\n",
       " 0  0  0  0  0  0  0  0  0  0  0  0  0  …  0  0  0  0  0  0  0  0  0  0  0  0\n",
       " 0  0  0  0  0  0  0  0  0  0  0  0  0     0  0  0  0  0  0  0  0  0  0  0  0\n",
       " 0  0  0  0  0  0  0  0  0  0  0  0  0     0  0  0  0  0  0  0  0  0  0  0  0\n",
       " 0  0  0  0  0  0  0  0  0  0  0  0  0     0  0  0  0  0  0  0  0  0  0  0  0\n",
       " 0  0  0  0  0  0  0  0  0  0  0  0  0     0  0  0  0  0  0  0  0  0  0  0  0\n",
       " 0  0  0  0  0  0  0  0  0  0  0  0  0  …  0  0  0  0  0  0  0  0  0  0  0  0\n",
       " 0  0  0  0  0  0  0  0  0  0  0  0  0     0  0  0  0  0  0  0  0  0  0  0  0\n",
       " 0  0  0  0  0  0  0  0  0  0  0  0  0     0  0  0  0  0  0  0  0  0  0  0  0\n",
       " 0  0  0  0  0  0  0  0  0  0  0  0  0     0  0  0  0  0  0  0  0  0  0  0  0"
      ]
     },
     "execution_count": 4,
     "metadata": {},
     "output_type": "execute_result"
    }
   ],
   "source": [
    "include(\"cargaYFiltra.jl\")"
   ]
  },
  {
   "cell_type": "code",
   "execution_count": null,
   "metadata": {
    "collapsed": true
   },
   "outputs": [],
   "source": [
    "#Contiene el método al que se le aplica el profiling"
   ]
  },
  {
   "cell_type": "code",
   "execution_count": 11,
   "metadata": {
    "collapsed": false
   },
   "outputs": [
    {
     "data": {
      "text/plain": [
       "miniComponentesDisjuntos (generic function with 1 method)"
      ]
     },
     "execution_count": 11,
     "metadata": {},
     "output_type": "execute_result"
    }
   ],
   "source": [
    "include(\"minicomponentesDisjuntos.jl\")"
   ]
  },
  {
   "cell_type": "code",
   "execution_count": 12,
   "metadata": {
    "collapsed": true
   },
   "outputs": [],
   "source": [
    "#Ejecución inicial para forzar la compilación"
   ]
  },
  {
   "cell_type": "code",
   "execution_count": 16,
   "metadata": {
    "collapsed": false
   },
   "outputs": [],
   "source": [
    "miniComponentesDisjuntos(CSD);"
   ]
  },
  {
   "cell_type": "markdown",
   "metadata": {},
   "source": [
    "###Profiling"
   ]
  },
  {
   "cell_type": "markdown",
   "metadata": {},
   "source": [
    "Medición inicial del tiempo. El Profiler es estadístico y funciona con muestreo. No ofrece cobertura linea por línea pero despliega un aproximado del costo en la columna count. http://docs.julialang.org/en/release-0.4/manual/profile/"
   ]
  },
  {
   "cell_type": "code",
   "execution_count": 15,
   "metadata": {
    "collapsed": false
   },
   "outputs": [
    {
     "name": "stdout",
     "output_type": "stream",
     "text": [
      "elapsed time: 8.854391545 seconds (920321688 bytes allocated, 69.60% gc time)\n"
     ]
    }
   ],
   "source": [
    "@time miniComponentesDisjuntos(CSD);"
   ]
  },
  {
   "cell_type": "code",
   "execution_count": 17,
   "metadata": {
    "collapsed": false
   },
   "outputs": [
    {
     "data": {
      "text/plain": [
       "85x3 Array{Float64,2}:\n",
       "  2.11719  45.5397   13.2886  \n",
       "  1.0      34.5756    8.63592 \n",
       "  2.28461  12.9955   24.0218  \n",
       " 34.5428   51.6435  336.289   \n",
       " 64.0      42.5726    5.31327 \n",
       " 58.315    53.3565  303.479   \n",
       " 11.9941   18.1737  194.017   \n",
       " 50.0       2.0       0.725223\n",
       " 45.7733   57.2672  356.555   \n",
       "  7.0      10.0       1.93122 \n",
       " 42.0      51.0       0.26477 \n",
       "  1.0      60.589     6.54577 \n",
       " 13.0      33.0       0.132762\n",
       "  ⋮                           \n",
       " 31.7338   33.9216  263.42    \n",
       " 34.6688   19.2632  183.336   \n",
       " 16.0      13.6511    5.02567 \n",
       " 54.3625   43.6423  442.687   \n",
       " 46.7101   19.3537   26.2868  \n",
       " 23.0      47.2932    0.907967\n",
       " 31.1959   60.9446   69.6098  \n",
       " 11.0      33.0       0.64351 \n",
       " 53.0       3.0       2.50065 \n",
       " 31.0      40.0       0.225191\n",
       " 16.0      64.0       0.391929\n",
       " 51.3285   24.4578   11.5495  "
      ]
     },
     "execution_count": 17,
     "metadata": {},
     "output_type": "execute_result"
    }
   ],
   "source": [
    "@profile miniComponentesDisjuntos(CSD)"
   ]
  },
  {
   "cell_type": "code",
   "execution_count": 18,
   "metadata": {
    "collapsed": false
   },
   "outputs": [
    {
     "name": "stdout",
     "output_type": "stream",
     "text": [
      " Count File                       Function                                 Line\n",
      "     4 ...lia/lib/julia/sys.dylib ==                                         -1\n",
      "    14 ...lia/lib/julia/sys.dylib hash                                       -1\n",
      "    38 ...lia/lib/julia/sys.dylib hash_64_64                                 -1\n",
      "     1 ...lia/lib/julia/sys.dylib map                                        -1\n",
      "     1 ...lia/lib/julia/sys.dylib vcat                                       -1\n",
      "     1 ...lia/lib/julia/sys.dylib with_output_limit                          -1\n",
      "     1 ...lia/lib/julia/sys.dylib zeros                                      -1\n",
      "  6978 ....3/IJulia/src/IJulia.jl eventloop                                 141\n",
      "     1 .../src/execute_request.jl display_dict                               26\n",
      "  6977 .../src/execute_request.jl execute_request_0x535c5df2                177\n",
      "     1 .../src/execute_request.jl execute_request_0x535c5df2                212\n",
      "     1 ...ncionesCentrosDeMasa.jl vecindad8                                  74\n",
      "     1 ...ncionesCentrosDeMasa.jl vecindad8                                  77\n",
      "     1 ...ncionesCentrosDeMasa.jl vecindad8                                  78\n",
      "     3 ...componentesDisjuntos.jl miniComponentesDisjuntos                   29\n",
      "  1801 ...componentesDisjuntos.jl miniComponentesDisjuntos                   30\n",
      "  5171 ...componentesDisjuntos.jl miniComponentesDisjuntos                   32\n",
      "     1 ...componentesDisjuntos.jl miniComponentesDisjuntos                   45\n",
      "     1 ...componentesDisjuntos.jl miniComponentesDisjuntos                   60\n",
      "  1550 abstractarray.jl           ==                                        876\n",
      "     4 abstractarray.jl           ==                                        877\n",
      "     1 abstractarray.jl           ==                                        882\n",
      "     7 abstractarray.jl           ==                                        883\n",
      "     2 abstractarray.jl           ==                                        884\n",
      "     2 abstractarray.jl           ==                                        887\n",
      "     8 abstractarray.jl           isequal                                   851\n",
      "   783 abstractarray.jl           isequal                                   852\n",
      "     1 abstractarray.jl           isequal                                   853\n",
      "     3 abstractarray.jl           isequal                                   859\n",
      "     2 abstractarray.jl           isequal                                   860\n",
      "   156 array.jl                   deleteat!                                 589\n",
      "  5012 array.jl                   indexin                                  1158\n",
      "     3 array.jl                   indexin                                  1159\n",
      "  5012 dict.jl                    Dict                                      326\n",
      "     3 dict.jl                    _setindex!                                533\n",
      "     2 dict.jl                    _setindex!                                535\n",
      "     1 dict.jl                    _setindex!                                538\n",
      "  1852 dict.jl                    _setindex!                                542\n",
      "     5 dict.jl                    ht_keyindex2                              497\n",
      "    66 dict.jl                    ht_keyindex2                              500\n",
      "    10 dict.jl                    ht_keyindex2                              505\n",
      "     1 dict.jl                    ht_keyindex2                              506\n",
      "     1 dict.jl                    ht_keyindex2                              507\n",
      "   816 dict.jl                    ht_keyindex2                              516\n",
      "     2 dict.jl                    ht_keyindex2                              521\n",
      "     1 dict.jl                    ht_keyindex2                              522\n",
      "  1699 dict.jl                    ht_keyindex2                              527\n",
      "     1 dict.jl                    ht_keyindex                               481\n",
      "     1 dict.jl                    rehash                                    409\n",
      "     4 dict.jl                    rehash                                    410\n",
      "   737 dict.jl                    rehash                                    411\n",
      "     2 dict.jl                    rehash                                    416\n",
      "     1 dict.jl                    rehash                                    417\n",
      "     2 dict.jl                    rehash                                    418\n",
      "  1810 dict.jl                    rehash                                    419\n",
      "     1 dict.jl                    rehash                                    420\n",
      "   985 dict.jl                    rehash                                    424\n",
      "     6 dict.jl                    rehash                                    425\n",
      "     1 dict.jl                    rehash                                    426\n",
      "     1 dict.jl                    rehash                                    428\n",
      "     5 dict.jl                    setindex!                                 547\n",
      "     7 dict.jl                    setindex!                                 548\n",
      "  2601 dict.jl                    setindex!                                 553\n",
      "  1858 dict.jl                    setindex!                                 559\n",
      "     1 dict.jl                    setindex!                                 562\n",
      "     7 hashing2.jl                hash                                      160\n",
      "  1287 hashing2.jl                hash                                      161\n",
      "    31 hashing2.jl                hash                                      163\n",
      "     2 hashing2.jl                hash                                      165\n",
      "     1 iostream.jl                sprint                                    229\n",
      "  6977 loading.jl                 include_string                             97\n",
      "     1 multimedia.jl              writemime                                  41\n",
      "  6977 profile.jl                 anonymous                                  14\n",
      "     3 range.jl                   getindex                                  267\n",
      "  1801 reduce.jl                  _mapreduce                                174\n",
      "     5 reduce.jl                  mapreduce_seq_impl                        119\n",
      "     2 reduce.jl                  mapreduce_seq_impl                        120\n",
      "  1794 reduce.jl                  mapreduce_seq_impl                        123\n",
      "     1 replutil.jl                anonymous                                  27\n",
      "     1 replutil.jl                writemime                                  26\n",
      "     1 show.jl                    alignment                                 870\n",
      "     1 show.jl                    print_matrix                              962\n",
      "     1 show.jl                    showarray                                1119\n",
      "  6978 task.jl                    anonymous                                 340\n"
     ]
    }
   ],
   "source": [
    "Profile.print(format=:flat)"
   ]
  },
  {
   "cell_type": "code",
   "execution_count": null,
   "metadata": {
    "collapsed": true
   },
   "outputs": [],
   "source": []
  }
 ],
 "metadata": {
  "kernelspec": {
   "display_name": "Julia 0.3.12",
   "language": "julia",
   "name": "julia-0.3"
  },
  "language_info": {
   "file_extension": ".jl",
   "mimetype": "application/julia",
   "name": "julia",
   "version": "0.3.12"
  }
 },
 "nbformat": 4,
 "nbformat_minor": 0
}
