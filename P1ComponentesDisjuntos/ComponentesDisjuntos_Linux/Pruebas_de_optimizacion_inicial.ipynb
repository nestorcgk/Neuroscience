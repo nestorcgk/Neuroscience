{
 "cells": [
  {
   "cell_type": "markdown",
   "metadata": {},
   "source": [
    "#Pruebas de Optimización Inicial"
   ]
  },
  {
   "cell_type": "markdown",
   "metadata": {},
   "source": [
    "Se muestran las primeras pruebas de optimización para el cálculo de pozos, fuentes y componentes disjuntos. Se aplican varias optimizaciones propuestas en http://docs.julialang.org/en/release-0.4/manual/performance-tips/"
   ]
  },
  {
   "cell_type": "markdown",
   "metadata": {},
   "source": [
    "###Datos y cargas iniciales"
   ]
  },
  {
   "cell_type": "code",
   "execution_count": 2,
   "metadata": {
    "collapsed": true
   },
   "outputs": [],
   "source": [
    "cd(\"/Users/Nes/Desktop/NeuroCiencias/JuliaExperiments/Parallel-Neuroscience/ComponentesDisjuntos\");"
   ]
  },
  {
   "cell_type": "code",
   "execution_count": 3,
   "metadata": {
    "collapsed": true
   },
   "outputs": [],
   "source": [
    "include(\"funcionesCentrosDeMasa.jl\");"
   ]
  },
  {
   "cell_type": "code",
   "execution_count": 4,
   "metadata": {
    "collapsed": false
   },
   "outputs": [
    {
     "name": "stderr",
     "output_type": "stream",
     "text": [
      "INFO: Loading help data...\n"
     ]
    }
   ],
   "source": [
    "include(\"cargaYFiltra.jl\");"
   ]
  },
  {
   "cell_type": "markdown",
   "metadata": {},
   "source": [
    "##Memory Order"
   ]
  },
  {
   "cell_type": "markdown",
   "metadata": {},
   "source": [
    "El orden de acceso a memoria es muy importante en la velocidad y debe tomarse en cuenta cómo se recorre la información puesto que no es lo mismo acceder a memoria contigua que hacer saltos. Julia guarda la información por columnas. Por ejemplo x = [1 2;3 4] se almacena como [1 3 2 4]"
   ]
  },
  {
   "cell_type": "code",
   "execution_count": 13,
   "metadata": {
    "collapsed": true
   },
   "outputs": [],
   "source": [
    "include(\"memoryOrderTest.jl\");"
   ]
  },
  {
   "cell_type": "code",
   "execution_count": 14,
   "metadata": {
    "collapsed": true
   },
   "outputs": [],
   "source": [
    "memoryTestRowOrder(CSD);"
   ]
  },
  {
   "cell_type": "code",
   "execution_count": 15,
   "metadata": {
    "collapsed": true
   },
   "outputs": [],
   "source": [
    "memoryTestColOrder(CSD);"
   ]
  },
  {
   "cell_type": "code",
   "execution_count": 16,
   "metadata": {
    "collapsed": false
   },
   "outputs": [
    {
     "data": {
      "text/plain": [
       "fmt (generic function with 1 method)"
      ]
     },
     "execution_count": 16,
     "metadata": {},
     "output_type": "execute_result"
    }
   ],
   "source": [
    "fmt(f) = println(rpad(string(f)*\": \", 14, ' '), @elapsed f(CSD))"
   ]
  },
  {
   "cell_type": "code",
   "execution_count": 45,
   "metadata": {
    "collapsed": false
   },
   "outputs": [
    {
     "name": "stdout",
     "output_type": "stream",
     "text": [
      "memoryTestRowOrder: 0.001015006\n",
      "memoryTestColOrder: 0.000871196\n"
     ]
    }
   ],
   "source": [
    "map(fmt, Any[memoryTestRowOrder, memoryTestColOrder]);"
   ]
  },
  {
   "cell_type": "markdown",
   "metadata": {},
   "source": [
    "La diferencia es pequeña porque la prueba es en una matriz de 64x64. En este caso resultó ser 16% más rápido, pero haciendo varias pruebas varía entre el 8 y el 30%. Sin embargo, entre más grande es el arreglo la diferencia es más notoria y, al hacerlo en la matriz de 64x64x5000 se notará mas."
   ]
  },
  {
   "cell_type": "markdown",
   "metadata": {},
   "source": [
    "Si observamos, por ejemplo, una matriz de 1000 x 1000 basándonos en el ejemplo."
   ]
  },
  {
   "cell_type": "code",
   "execution_count": 46,
   "metadata": {
    "collapsed": false
   },
   "outputs": [
    {
     "data": {
      "text/plain": [
       "copy_row_col (generic function with 1 method)"
      ]
     },
     "execution_count": 46,
     "metadata": {},
     "output_type": "execute_result"
    }
   ],
   "source": [
    "function copy_col_row{T}(x::Vector{T})\n",
    "    n = size(x, 1)\n",
    "    out = Array(T, n, n)\n",
    "    for col=1:n, row=1:n\n",
    "        out[row, col] = x[row]\n",
    "    end\n",
    "    out\n",
    "end\n",
    "\n",
    "function copy_row_col{T}(x::Vector{T})\n",
    "    n = size(x, 1)\n",
    "    out = Array(T, n, n)\n",
    "    for row=1:n, col=1:n\n",
    "        out[row, col] = x[col]\n",
    "    end\n",
    "    out\n",
    "end"
   ]
  },
  {
   "cell_type": "code",
   "execution_count": 47,
   "metadata": {
    "collapsed": true
   },
   "outputs": [],
   "source": [
    "x = randn(10000);"
   ]
  },
  {
   "cell_type": "code",
   "execution_count": 48,
   "metadata": {
    "collapsed": false
   },
   "outputs": [
    {
     "data": {
      "text/plain": [
       "fmt (generic function with 1 method)"
      ]
     },
     "execution_count": 48,
     "metadata": {},
     "output_type": "execute_result"
    }
   ],
   "source": [
    "fmt(f) = println(rpad(string(f)*\": \", 14, ' '), @elapsed f(x))"
   ]
  },
  {
   "cell_type": "code",
   "execution_count": 49,
   "metadata": {
    "collapsed": false
   },
   "outputs": [
    {
     "name": "stdout",
     "output_type": "stream",
     "text": [
      "copy_col_row: 0.687623436\n",
      "copy_row_col: 1.91148332\n"
     ]
    }
   ],
   "source": [
    "map(fmt, Any[copy_col_row, copy_row_col]);"
   ]
  },
  {
   "cell_type": "code",
   "execution_count": null,
   "metadata": {
    "collapsed": true
   },
   "outputs": [],
   "source": []
  }
 ],
 "metadata": {
  "kernelspec": {
   "display_name": "Julia 0.3.12",
   "language": "julia",
   "name": "julia-0.3"
  },
  "language_info": {
   "file_extension": ".jl",
   "mimetype": "application/julia",
   "name": "julia",
   "version": "0.3.12"
  }
 },
 "nbformat": 4,
 "nbformat_minor": 0
}
