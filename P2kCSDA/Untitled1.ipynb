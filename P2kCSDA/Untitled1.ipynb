{
 "cells": [
  {
   "cell_type": "code",
   "execution_count": 4,
   "metadata": {
    "collapsed": false
   },
   "outputs": [
    {
     "name": "stderr",
     "output_type": "stream",
     "text": [
      "INFO: Cloning cache of Plots from git://github.com/tbreloff/Plots.jl.git\n",
      "INFO: Cloning cache of RecipesBase from git://github.com/JuliaPlots/RecipesBase.jl.git\n",
      "INFO: Cloning cache of Showoff from git://github.com/JuliaGraphics/Showoff.jl.git\n",
      "INFO: Installing FixedSizeArrays v0.2.3\n",
      "INFO: Installing Iterators v0.1.10\n",
      "INFO: Installing Measures v0.0.3\n",
      "INFO: Installing PlotUtils v0.0.4\n",
      "INFO: Installing Plots v0.8.2\n",
      "INFO: Installing RecipesBase v0.0.6\n",
      "INFO: Installing Showoff v0.0.7\n",
      "INFO: Building Plots\n",
      "INFO: Cannot find deps/plotly-latest.min.js... downloading latest version.\n",
      "  % Total    % Received % Xferd  Average Speed   Time    Time     Time  Current\n",
      "                                 Dload  Upload   Total   Spent    Left  Speed\n",
      "100 1885k  100 1885k    0     0   809k      0  0:00:02  0:00:02 --:--:-- 1019k\n",
      "INFO: Package database updated\n",
      "INFO: METADATA is out-of-date — you may not have the latest version of Plots\n",
      "INFO: Use `Pkg.update()` to get the latest versions of your packages\n"
     ]
    }
   ],
   "source": [
    "Pkg.add(\"Plots\")"
   ]
  },
  {
   "cell_type": "code",
   "execution_count": null,
   "metadata": {
    "collapsed": true
   },
   "outputs": [],
   "source": []
  }
 ],
 "metadata": {
  "kernelspec": {
   "display_name": "Julia 0.4.0",
   "language": "julia",
   "name": "julia-0.4"
  },
  "language_info": {
   "file_extension": ".jl",
   "mimetype": "application/julia",
   "name": "julia",
   "version": "0.4.0"
  }
 },
 "nbformat": 4,
 "nbformat_minor": 1
}
