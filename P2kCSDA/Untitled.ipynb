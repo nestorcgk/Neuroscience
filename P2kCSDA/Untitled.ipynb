{
 "cells": [
  {
   "cell_type": "code",
   "execution_count": 1,
   "metadata": {
    "collapsed": true
   },
   "outputs": [],
   "source": [
    "cd(\"/Users/Nes/Desktop/Neuroscience/Parallel-Neuroscience/P2kCSDA\")"
   ]
  },
  {
   "cell_type": "code",
   "execution_count": 2,
   "metadata": {
    "collapsed": true
   },
   "outputs": [],
   "source": [
    "BceroDura=readdlm(\"BceroDura.dat\");"
   ]
  },
  {
   "cell_type": "code",
   "execution_count": 12,
   "metadata": {
    "collapsed": true
   },
   "outputs": [],
   "source": [
    "BceroDura2=readdlm(\"K.dat\");"
   ]
  },
  {
   "cell_type": "code",
   "execution_count": 13,
   "metadata": {
    "collapsed": false
   },
   "outputs": [
    {
     "data": {
      "text/plain": [
       "128x128 Array{Float64,2}:\n",
       " 17903.7  17574.4  18168.6  17870.4  18443.4  …   49448.9   45395.6   52602.1\n",
       "     0.0  18275.1  17882.8  18563.1  18173.5      46843.0   49336.2   49497.5\n",
       "     0.0      0.0  18444.5  18180.5  18727.0      49496.9   46859.6   52631.1\n",
       "     0.0      0.0      0.0  18857.2  18474.3      47971.0   49762.4   50699.0\n",
       "     0.0      0.0      0.0      0.0  19015.7      49893.1   47980.2   53042.4\n",
       "     0.0      0.0      0.0      0.0      0.0  …   49155.2   50168.4   51960.8\n",
       "     0.0      0.0      0.0      0.0      0.0      50268.3   49156.3   53430.1\n",
       "     0.0      0.0      0.0      0.0      0.0      50400.8   50553.8   53288.7\n",
       "     0.0      0.0      0.0      0.0      0.0      50622.5   50393.2   53793.9\n",
       "     0.0      0.0      0.0      0.0      0.0      51713.8   50918.9   54689.1\n",
       "     0.0      0.0      0.0      0.0      0.0  …   50956.1   51696.8   54134.1\n",
       "     0.0      0.0      0.0      0.0      0.0      53101.3   51263.9   56169.3\n",
       "     0.0      0.0      0.0      0.0      0.0      51269.6   53074.1   54451.3\n",
       "     ⋮                                        ⋱       ⋮                      \n",
       "     0.0      0.0      0.0      0.0      0.0      59166.9  141019.0   61773.0\n",
       "     0.0      0.0      0.0      0.0      0.0     158536.0   61165.9  167633.0\n",
       "     0.0      0.0      0.0      0.0      0.0      60682.8  156858.0   63236.3\n",
       "     0.0      0.0      0.0      0.0      0.0     177208.0   62988.6  187295.0\n",
       "     0.0      0.0      0.0      0.0      0.0  …   62561.6  176193.0   65057.7\n",
       "     0.0      0.0      0.0      0.0      0.0     197594.0   65055.6  209040.0\n",
       "     0.0      0.0      0.0      0.0      0.0      64727.9  197375.0   67158.5\n",
       "     0.0      0.0      0.0      0.0      0.0     218025.0   67272.0  231246.0\n",
       "     0.0      0.0      0.0      0.0      0.0      67094.1  218564.0   69451.1\n",
       "     0.0      0.0      0.0      0.0      0.0  …  236723.0   69552.4  252085.0\n",
       "     0.0      0.0      0.0      0.0      0.0          0.0  237991.0   71830.8\n",
       "     0.0      0.0      0.0      0.0      0.0          0.0       0.0  269786.0"
      ]
     },
     "execution_count": 13,
     "metadata": {},
     "output_type": "execute_result"
    }
   ],
   "source": [
    "BceroDura2"
   ]
  },
  {
   "cell_type": "code",
   "execution_count": 9,
   "metadata": {
    "collapsed": false
   },
   "outputs": [
    {
     "data": {
      "text/plain": [
       "19.673321509239155"
      ]
     },
     "execution_count": 9,
     "metadata": {},
     "output_type": "execute_result"
    }
   ],
   "source": [
    "BceroDura[37,45]"
   ]
  },
  {
   "cell_type": "code",
   "execution_count": 7,
   "metadata": {
    "collapsed": false
   },
   "outputs": [
    {
     "data": {
      "text/plain": [
       "127x127 Array{Float64,2}:\n",
       "  5.57739e-7   2.99659e-6   4.79014e-6  …   2.99659e-6   5.57739e-7\n",
       "  2.99659e-6  -1.30678e-8  -2.62584e-6     -1.30678e-8   2.99659e-6\n",
       "  4.79014e-6  -2.62584e-6  -3.00993e-7     -2.62584e-6   4.79014e-6\n",
       " -3.81601e-6   2.80303e-6  -1.10899e-6      2.80303e-6  -3.81601e-6\n",
       " -1.65532e-6  -2.40473e-6   2.99697e-6     -2.40473e-6  -1.65532e-6\n",
       " -4.03083e-6   2.30904e-6   3.87865e-6  …   2.30904e-6  -4.03083e-6\n",
       " -3.68657e-6   4.75772e-6   4.46362e-6      4.75772e-6  -3.68657e-6\n",
       " -2.76912e-6   2.00285e-6   1.95817e-6      2.00285e-6  -2.76912e-6\n",
       " -1.2642e-6    4.08724e-6  -3.57745e-6      4.08724e-6  -1.2642e-6 \n",
       "  2.43395e-6   2.50669e-6  -6.06687e-7      2.50669e-6   2.43395e-6\n",
       "  3.36204e-7  -6.95463e-7   2.10657e-6  …  -6.95463e-7   3.36204e-7\n",
       " -1.2196e-6   -1.74686e-7   9.57085e-7     -1.74686e-7  -1.2196e-6 \n",
       "  2.01714e-6   6.56162e-7   8.04153e-7      6.56162e-7   2.01714e-6\n",
       "  ⋮                                     ⋱   ⋮                      \n",
       " -1.2196e-6   -1.74686e-7   9.57085e-7  …  -1.74686e-7  -1.2196e-6 \n",
       "  3.36204e-7  -6.95463e-7   2.10657e-6     -6.95463e-7   3.36204e-7\n",
       "  2.43395e-6   2.50669e-6  -6.06687e-7      2.50669e-6   2.43395e-6\n",
       " -1.2642e-6    4.08724e-6  -3.57745e-6      4.08724e-6  -1.2642e-6 \n",
       " -2.76912e-6   2.00285e-6   1.95817e-6      2.00285e-6  -2.76912e-6\n",
       " -3.68657e-6   4.75772e-6   4.46362e-6  …   4.75772e-6  -3.68657e-6\n",
       " -4.03083e-6   2.30904e-6   3.87865e-6      2.30904e-6  -4.03083e-6\n",
       " -1.65532e-6  -2.40473e-6   2.99697e-6     -2.40473e-6  -1.65532e-6\n",
       " -3.81601e-6   2.80303e-6  -1.10899e-6      2.80303e-6  -3.81601e-6\n",
       "  4.79014e-6  -2.62584e-6  -3.00993e-7     -2.62584e-6   4.79014e-6\n",
       "  2.99659e-6  -1.30678e-8  -2.62584e-6  …  -1.30678e-8   2.99659e-6\n",
       "  5.57739e-7   2.99659e-6   4.79014e-6      2.99659e-6   5.57739e-7"
      ]
     },
     "execution_count": 7,
     "metadata": {},
     "output_type": "execute_result"
    }
   ],
   "source": [
    "BceroDura2-BceroDura"
   ]
  },
  {
   "cell_type": "code",
   "execution_count": 10,
   "metadata": {
    "collapsed": false
   },
   "outputs": [
    {
     "data": {
      "text/plain": [
       "(127,127)"
      ]
     },
     "execution_count": 10,
     "metadata": {},
     "output_type": "execute_result"
    }
   ],
   "source": [
    "size(BceroDura)"
   ]
  },
  {
   "cell_type": "code",
   "execution_count": 11,
   "metadata": {
    "collapsed": false
   },
   "outputs": [
    {
     "data": {
      "text/plain": [
       "(127,127)"
      ]
     },
     "execution_count": 11,
     "metadata": {},
     "output_type": "execute_result"
    }
   ],
   "source": [
    "size(BceroDura2)"
   ]
  },
  {
   "cell_type": "code",
   "execution_count": null,
   "metadata": {
    "collapsed": true
   },
   "outputs": [],
   "source": []
  }
 ],
 "metadata": {
  "kernelspec": {
   "display_name": "Julia 0.4.0",
   "language": "julia",
   "name": "julia-0.4"
  },
  "language_info": {
   "file_extension": ".jl",
   "mimetype": "application/julia",
   "name": "julia",
   "version": "0.4.0"
  }
 },
 "nbformat": 4,
 "nbformat_minor": 0
}
