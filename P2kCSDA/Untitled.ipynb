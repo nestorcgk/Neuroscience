{
 "cells": [
  {
   "cell_type": "code",
   "execution_count": 1,
   "metadata": {
    "collapsed": true
   },
   "outputs": [],
   "source": [
    "cd(\"/Users/Nes/Desktop/Neuroscience/Parallel-Neuroscience/P2kCSDA\")"
   ]
  },
  {
   "cell_type": "code",
   "execution_count": 68,
   "metadata": {
    "collapsed": true
   },
   "outputs": [],
   "source": [
    "BceroDura=readdlm(\"BceroDura.dat\");"
   ]
  },
  {
   "cell_type": "code",
   "execution_count": 166,
   "metadata": {
    "collapsed": false
   },
   "outputs": [],
   "source": [
    "output2=readdlm(\"K.dat\");"
   ]
  },
  {
   "cell_type": "code",
   "execution_count": 145,
   "metadata": {
    "collapsed": false
   },
   "outputs": [
    {
     "data": {
      "text/plain": [
       "128x128 Array{Float64,2}:\n",
       "  7.33885  -0.5       -5.40608e16  …  NaN           NaN         \n",
       "  7.3972    7.3972   NaN               -6.64614e35   -1.70141e38\n",
       "  7.456     7.456      7.456           -4.38645e37   -9.22337e18\n",
       "  7.51522   7.51522    7.51522        NaN           NaN         \n",
       "  7.57487   7.57487    7.57487        NaN           NaN         \n",
       "  7.63492   7.63492    7.63492     …   -1.70141e38   -1.70142e38\n",
       "  7.69536   7.69536    7.69536         -2.55212e38   -1.70141e38\n",
       "  7.75617   7.75617    7.75617        NaN           NaN         \n",
       "  7.81733   7.81733    7.81733         -1.70141e38   -1.70141e38\n",
       "  7.87882   7.87882    7.87882        NaN           NaN         \n",
       "  7.94061   7.94061    7.94061     …   -1.70141e38   -9.22337e18\n",
       "  8.00268   8.00268    8.00268        NaN           NaN         \n",
       "  8.06501   8.06501    8.06501         -1.75458e38   -4.7707e-7 \n",
       "  ⋮                                ⋱                            \n",
       " 10.373    10.373     10.373           -1.70141e38   -7.47691e35\n",
       " 10.4004   10.4004    10.4004         NaN           NaN         \n",
       " 10.4254   10.4254    10.4254          -1.70141e38   -1.70141e38\n",
       " 10.448    10.448     10.448          NaN           NaN         \n",
       " 10.468    10.468     10.468       …   -1.71637e38   -3.96141e28\n",
       " 10.4855   10.4855    10.4855         NaN           NaN         \n",
       " 10.5003   10.5003    10.5003         NaN           NaN         \n",
       " 10.5125   10.5125    10.5125          -3.96141e28   -9.22341e18\n",
       " 10.522    10.522     10.522           -1.70141e38   -1.06339e37\n",
       " 10.5288   10.5288    10.5288      …  NaN           NaN         \n",
       " 10.5329   10.5329    10.5329          10.5329      NaN         \n",
       " 10.5342   10.5342    10.5342          10.5342       10.5342    "
      ]
     },
     "execution_count": 145,
     "metadata": {},
     "output_type": "execute_result"
    }
   ],
   "source": [
    "output2"
   ]
  },
  {
   "cell_type": "code",
   "execution_count": 4,
   "metadata": {
    "collapsed": false
   },
   "outputs": [
    {
     "data": {
      "text/plain": [
       "0-element Array{Array{T,N},1}"
      ]
     },
     "execution_count": 4,
     "metadata": {},
     "output_type": "execute_result"
    }
   ],
   "source": [
    "ConjuntoDeCoordenadasTotal=Array[]"
   ]
  },
  {
   "cell_type": "code",
   "execution_count": 6,
   "metadata": {
    "collapsed": true
   },
   "outputs": [],
   "source": [
    "for j=1:64,k=1:64\n",
    "    push!(ConjuntoDeCoordenadasTotal,[j,k])\n",
    "end"
   ]
  },
  {
   "cell_type": "code",
   "execution_count": 164,
   "metadata": {
    "collapsed": false
   },
   "outputs": [
    {
     "name": "stdout",
     "output_type": "stream",
     "text": [
      "  3.315639 seconds (25.38 M allocations: 919.637 MB, 3.90% gc time)\n"
     ]
    }
   ],
   "source": [
    "jmax=128\n",
    "xconstante=[64,64]\n",
    "Kduras=zeros(jmax,jmax);\n",
    "@time for j=1:jmax\n",
    "     xj=ConjuntoDeCoordenadasTotal[j]\n",
    "     for k=1:j\n",
    "            xk=ConjuntoDeCoordenadasTotal[k]\n",
    "        for l=1:jmax\n",
    "            xl=ConjuntoDeCoordenadasTotal[l]\n",
    "            Kduras[j,k] += BceroDura[(xk-xl+xconstante)...] * BceroDura[(xj-xl+xconstante)...]\n",
    "            end\n",
    "    end\n",
    "end"
   ]
  },
  {
   "cell_type": "code",
   "execution_count": 36,
   "metadata": {
    "collapsed": false
   },
   "outputs": [
    {
     "data": {
      "text/plain": [
       "91890.6914197124"
      ]
     },
     "execution_count": 36,
     "metadata": {},
     "output_type": "execute_result"
    }
   ],
   "source": [
    "Kduras[128,1]"
   ]
  },
  {
   "cell_type": "code",
   "execution_count": 113,
   "metadata": {
    "collapsed": false
   },
   "outputs": [
    {
     "data": {
      "text/plain": [
       "-36270.35728002549"
      ]
     },
     "execution_count": 113,
     "metadata": {},
     "output_type": "execute_result"
    }
   ],
   "source": [
    "Kduras[1,1]-output2[1,1]"
   ]
  },
  {
   "cell_type": "code",
   "execution_count": 110,
   "metadata": {
    "collapsed": false
   },
   "outputs": [
    {
     "data": {
      "text/plain": [
       "541108.0"
      ]
     },
     "execution_count": 110,
     "metadata": {},
     "output_type": "execute_result"
    }
   ],
   "source": [
    "output2[20,20]"
   ]
  },
  {
   "cell_type": "code",
   "execution_count": 87,
   "metadata": {
    "collapsed": false
   },
   "outputs": [
    {
     "data": {
      "text/plain": [
       "2-element Array{Float64,1}:\n",
       " 71.0\n",
       " 45.0"
      ]
     },
     "execution_count": 87,
     "metadata": {},
     "output_type": "execute_result"
    }
   ],
   "source": [
    "[ceil(8935/127),8935%127]"
   ]
  },
  {
   "cell_type": "code",
   "execution_count": 90,
   "metadata": {
    "collapsed": false
   },
   "outputs": [
    {
     "data": {
      "text/plain": [
       "31.674940257859276"
      ]
     },
     "execution_count": 90,
     "metadata": {},
     "output_type": "execute_result"
    }
   ],
   "source": [
    "BceroDura[71,45]"
   ]
  },
  {
   "cell_type": "code",
   "execution_count": 165,
   "metadata": {
    "collapsed": false
   },
   "outputs": [
    {
     "data": {
      "text/plain": [
       "128x128 Array{Float64,2}:\n",
       "      3.06121e5       0.0        …  0.0        0.0        0.0      \n",
       "      3.23462e5       3.42391e5     0.0        0.0        0.0      \n",
       "      3.38158e5       3.58633e5     0.0        0.0        0.0      \n",
       "      3.49603e5       3.71495e5     0.0        0.0        0.0      \n",
       "      3.57247e5       3.80356e5     0.0        0.0        0.0      \n",
       "      3.60589e5       3.8466e5   …  0.0        0.0        0.0      \n",
       "      3.60023e5       3.84746e5     0.0        0.0        0.0      \n",
       "      3.56531e5       3.81556e5     0.0        0.0        0.0      \n",
       "      3.50931e5       3.75907e5     0.0        0.0        0.0      \n",
       "      3.43905e5  368510.0           0.0        0.0        0.0      \n",
       "      3.36003e5       3.59967e5  …  0.0        0.0        0.0      \n",
       "      3.27634e5       3.5077e5      0.0        0.0        0.0      \n",
       "      3.1908e5        3.41284e5     0.0        0.0        0.0      \n",
       "      ⋮                          ⋱  ⋮                              \n",
       "      1.28124e5       1.33266e5     0.0        0.0        0.0      \n",
       "      1.25288e5       1.30297e5     0.0        0.0        0.0      \n",
       "      1.22419e5       1.273e5       0.0        0.0        0.0      \n",
       "      1.19501e5       1.24257e5     0.0        0.0        0.0      \n",
       "      1.16511e5       1.21144e5  …  0.0        0.0        0.0      \n",
       "      1.13422e5       1.17934e5     0.0        0.0        0.0      \n",
       "      1.10198e5       1.1459e5      0.0        0.0        0.0      \n",
       "      1.06793e5       1.11066e5     0.0        0.0        0.0      \n",
       " 103202.0             1.07355e5     0.0        0.0        0.0      \n",
       "  99483.3        103518.0        …  3.76497e5  0.0        0.0      \n",
       "  95694.4         99612.3           3.58633e5  3.42391e5  0.0      \n",
       "  91890.7         95694.4           3.38158e5  3.23462e5  3.06121e5"
      ]
     },
     "execution_count": 165,
     "metadata": {},
     "output_type": "execute_result"
    }
   ],
   "source": [
    "Kduras"
   ]
  },
  {
   "cell_type": "code",
   "execution_count": 168,
   "metadata": {
    "collapsed": false
   },
   "outputs": [
    {
     "data": {
      "text/plain": [
       "128x128 Array{Float64,2}:\n",
       "  0.35728     NaN           …  NaN           NaN         NaN      \n",
       "  0.427855      0.322505       NaN           NaN         NaN      \n",
       " -0.0811619    -0.324037       NaN           NaN         NaN      \n",
       "  0.136915      0.360028       NaN           NaN         NaN      \n",
       "  0.422207      0.0869065      NaN           NaN         NaN      \n",
       "  0.383617     -0.0695681   …  NaN           NaN         NaN      \n",
       " -0.306164      0.198591       NaN           NaN         NaN      \n",
       "  0.340587      0.261382       NaN           NaN         NaN      \n",
       "  0.262548     -0.330189       NaN           NaN         NaN      \n",
       "  0.533845     -0.0394978      NaN           NaN         NaN      \n",
       " -0.208668     -0.208841    …  NaN           NaN         NaN      \n",
       " -0.306909      0.249461        -1.70142e38  NaN         NaN      \n",
       " -0.251132     -0.183498       NaN           NaN         NaN      \n",
       "  ⋮                         ⋱    ⋮                                \n",
       " -0.350017      0.443509       NaN           NaN         NaN      \n",
       "  0.248643     -0.124965       NaN           NaN         NaN      \n",
       " -0.214251     -0.254718       NaN           NaN         NaN      \n",
       "  0.144866      0.426956       NaN           NaN         NaN      \n",
       "  0.201284      0.328795    …  NaN           NaN         NaN      \n",
       "  0.366564      0.464954       NaN           NaN         NaN      \n",
       " -0.0686784    -0.165217       NaN           NaN         NaN      \n",
       " -0.120607      0.29662        NaN           NaN         NaN      \n",
       "  0.0405604    -0.132056       NaN           NaN         NaN      \n",
       "  0.00837279    0.0166609   …    0.0545462   NaN         NaN      \n",
       "  0.0417146     0.00599495      -0.324037      0.322505  NaN      \n",
       "  0.00858029    0.0417146       -0.0811619     0.427855    0.35728"
      ]
     },
     "execution_count": 168,
     "metadata": {},
     "output_type": "execute_result"
    }
   ],
   "source": [
    "output2-Kduras"
   ]
  },
  {
   "cell_type": "code",
   "execution_count": 132,
   "metadata": {
    "collapsed": false
   },
   "outputs": [
    {
     "data": {
      "text/plain": [
       "4096-element Array{Array{T,N},1}:\n",
       " [1,1]  \n",
       " [1,2]  \n",
       " [1,3]  \n",
       " [1,4]  \n",
       " [1,5]  \n",
       " [1,6]  \n",
       " [1,7]  \n",
       " [1,8]  \n",
       " [1,9]  \n",
       " [1,10] \n",
       " [1,11] \n",
       " [1,12] \n",
       " [1,13] \n",
       " ⋮      \n",
       " [64,53]\n",
       " [64,54]\n",
       " [64,55]\n",
       " [64,56]\n",
       " [64,57]\n",
       " [64,58]\n",
       " [64,59]\n",
       " [64,60]\n",
       " [64,61]\n",
       " [64,62]\n",
       " [64,63]\n",
       " [64,64]"
      ]
     },
     "execution_count": 132,
     "metadata": {},
     "output_type": "execute_result"
    }
   ],
   "source": [
    "ConjuntoDeCoordenadasTotal"
   ]
  },
  {
   "cell_type": "code",
   "execution_count": null,
   "metadata": {
    "collapsed": true
   },
   "outputs": [],
   "source": []
  }
 ],
 "metadata": {
  "kernelspec": {
   "display_name": "Julia 0.4.0",
   "language": "julia",
   "name": "julia-0.4"
  },
  "language_info": {
   "file_extension": ".jl",
   "mimetype": "application/julia",
   "name": "julia",
   "version": "0.4.0"
  }
 },
 "nbformat": 4,
 "nbformat_minor": 0
}
