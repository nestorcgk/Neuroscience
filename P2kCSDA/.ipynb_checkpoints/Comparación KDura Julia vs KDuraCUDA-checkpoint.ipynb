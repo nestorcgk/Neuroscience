{
 "cells": [
  {
   "cell_type": "code",
   "execution_count": 1,
   "metadata": {
    "collapsed": true
   },
   "outputs": [],
   "source": [
    "cd(\"/Users/Nes/Desktop/Neuroscience/Parallel-Neuroscience/P2kCSDA\")"
   ]
  },
  {
   "cell_type": "code",
   "execution_count": 68,
   "metadata": {
    "collapsed": true
   },
   "outputs": [],
   "source": [
    "BceroDura=readdlm(\"BceroDura.dat\");"
   ]
  },
  {
   "cell_type": "markdown",
   "metadata": {},
   "source": [
    "Se ejecuta el Kernel en CUDA y se guarda en el archivo K.dat. Tardó 50ms de los cuales 98% fueron en transferencias de memoria. "
   ]
  },
  {
   "cell_type": "code",
   "execution_count": null,
   "metadata": {
    "collapsed": true
   },
   "outputs": [],
   "source": []
  },
  {
   "cell_type": "code",
   "execution_count": 170,
   "metadata": {
    "collapsed": false
   },
   "outputs": [],
   "source": [
    "output2=readdlm(\"K.dat\");"
   ]
  },
  {
   "cell_type": "code",
   "execution_count": 4,
   "metadata": {
    "collapsed": false
   },
   "outputs": [
    {
     "data": {
      "text/plain": [
       "0-element Array{Array{T,N},1}"
      ]
     },
     "execution_count": 4,
     "metadata": {},
     "output_type": "execute_result"
    }
   ],
   "source": [
    "ConjuntoDeCoordenadasTotal=Array[]"
   ]
  },
  {
   "cell_type": "code",
   "execution_count": 6,
   "metadata": {
    "collapsed": true
   },
   "outputs": [],
   "source": [
    "for j=1:64,k=1:64\n",
    "    push!(ConjuntoDeCoordenadasTotal,[j,k])\n",
    "end"
   ]
  },
  {
   "cell_type": "code",
   "execution_count": 164,
   "metadata": {
    "collapsed": false
   },
   "outputs": [
    {
     "name": "stdout",
     "output_type": "stream",
     "text": [
      "  3.315639 seconds (25.38 M allocations: 919.637 MB, 3.90% gc time)\n"
     ]
    }
   ],
   "source": [
    "jmax=128\n",
    "xconstante=[64,64]\n",
    "Kduras=zeros(jmax,jmax);\n",
    "@time for j=1:jmax\n",
    "     xj=ConjuntoDeCoordenadasTotal[j]\n",
    "     for k=1:j\n",
    "            xk=ConjuntoDeCoordenadasTotal[k]\n",
    "        for l=1:jmax\n",
    "            xl=ConjuntoDeCoordenadasTotal[l]\n",
    "            Kduras[j,k] += BceroDura[(xk-xl+xconstante)...] * BceroDura[(xj-xl+xconstante)...]\n",
    "            end\n",
    "    end\n",
    "end"
   ]
  },
  {
   "cell_type": "markdown",
   "metadata": {},
   "source": [
    "###La diferencia entre CUDA (float32) y Julia (float64) es mínima. En cantidades de xe5 se obtuvo diferencias menores a 0.4"
   ]
  },
  {
   "cell_type": "code",
   "execution_count": 168,
   "metadata": {
    "collapsed": false
   },
   "outputs": [
    {
     "data": {
      "text/plain": [
       "128x128 Array{Float64,2}:\n",
       "  0.35728     NaN           …  NaN           NaN         NaN      \n",
       "  0.427855      0.322505       NaN           NaN         NaN      \n",
       " -0.0811619    -0.324037       NaN           NaN         NaN      \n",
       "  0.136915      0.360028       NaN           NaN         NaN      \n",
       "  0.422207      0.0869065      NaN           NaN         NaN      \n",
       "  0.383617     -0.0695681   …  NaN           NaN         NaN      \n",
       " -0.306164      0.198591       NaN           NaN         NaN      \n",
       "  0.340587      0.261382       NaN           NaN         NaN      \n",
       "  0.262548     -0.330189       NaN           NaN         NaN      \n",
       "  0.533845     -0.0394978      NaN           NaN         NaN      \n",
       " -0.208668     -0.208841    …  NaN           NaN         NaN      \n",
       " -0.306909      0.249461        -1.70142e38  NaN         NaN      \n",
       " -0.251132     -0.183498       NaN           NaN         NaN      \n",
       "  ⋮                         ⋱    ⋮                                \n",
       " -0.350017      0.443509       NaN           NaN         NaN      \n",
       "  0.248643     -0.124965       NaN           NaN         NaN      \n",
       " -0.214251     -0.254718       NaN           NaN         NaN      \n",
       "  0.144866      0.426956       NaN           NaN         NaN      \n",
       "  0.201284      0.328795    …  NaN           NaN         NaN      \n",
       "  0.366564      0.464954       NaN           NaN         NaN      \n",
       " -0.0686784    -0.165217       NaN           NaN         NaN      \n",
       " -0.120607      0.29662        NaN           NaN         NaN      \n",
       "  0.0405604    -0.132056       NaN           NaN         NaN      \n",
       "  0.00837279    0.0166609   …    0.0545462   NaN         NaN      \n",
       "  0.0417146     0.00599495      -0.324037      0.322505  NaN      \n",
       "  0.00858029    0.0417146       -0.0811619     0.427855    0.35728"
      ]
     },
     "execution_count": 168,
     "metadata": {},
     "output_type": "execute_result"
    }
   ],
   "source": [
    "output2-Kduras"
   ]
  },
  {
   "cell_type": "code",
   "execution_count": 240,
   "metadata": {
    "collapsed": true
   },
   "outputs": [],
   "source": [
    "output=readdlm(\"K.dat\");"
   ]
  },
  {
   "cell_type": "code",
   "execution_count": 241,
   "metadata": {
    "collapsed": false
   },
   "outputs": [
    {
     "data": {
      "text/plain": [
       "(4096,4096)"
      ]
     },
     "execution_count": 241,
     "metadata": {},
     "output_type": "execute_result"
    }
   ],
   "source": [
    "size(output)"
   ]
  },
  {
   "cell_type": "code",
   "execution_count": 238,
   "metadata": {
    "collapsed": false
   },
   "outputs": [
    {
     "data": {
      "text/plain": [
       "1024x1024 Array{Float64,2}:\n",
       "      1.38951e6      -0.5        …  NaN           NaN         \n",
       "      1.45218e6       1.51939e6     NaN           NaN         \n",
       "      1.50674e6       1.57838e6      -3.37624e38  NaN         \n",
       "      1.55123e6       1.62699e6     NaN           NaN         \n",
       "      1.58421e6       1.66356e6       1.03415e34  NaN         \n",
       "      1.60505e6       1.68732e6  …   -1.70141e38   -1.70141e38\n",
       "      1.61502e6       1.69937e6     NaN           NaN         \n",
       "      1.61615e6       1.70169e6       1.37439e11   -1.70141e38\n",
       "      1.61029e6       1.69613e6     NaN           NaN         \n",
       "      1.59903e6       1.68437e6     NaN           NaN         \n",
       "      1.58373e6       1.66791e6  …   -3.40282e38  NaN         \n",
       "      1.56547e6       1.648e6       NaN           NaN         \n",
       "      1.54506e6       1.62561e6     NaN           NaN         \n",
       "      ⋮                          ⋱                            \n",
       " 758534.0        783406.0           NaN            -3.4028e38 \n",
       " 742969.0        767252.0            -4.25353e37   -1.06338e37\n",
       " 727217.0        750925.0            -7.92281e28   -3.3995e38 \n",
       " 711228.0        734369.0        …   -1.70141e38   -1.70141e38\n",
       " 694947.0        717528.0           NaN           NaN         \n",
       " 678307.0        700337.0           NaN           NaN         \n",
       " 661238.0        682721.0           NaN            -3.19015e38\n",
       " 643658.0        664597.0            -3.40199e38  NaN         \n",
       " 625542.0        645942.0        …  NaN           NaN         \n",
       " 607006.0        626872.0            -1.70141e38   -1.70141e38\n",
       " 588227.0        607564.0             1.51939e6   NaN         \n",
       " 569408.0        588227.0             1.45218e6     1.38951e6 "
      ]
     },
     "execution_count": 238,
     "metadata": {},
     "output_type": "execute_result"
    }
   ],
   "source": [
    "output"
   ]
  },
  {
   "cell_type": "markdown",
   "metadata": {},
   "source": [
    "###Prueba para 256"
   ]
  },
  {
   "cell_type": "code",
   "execution_count": 228,
   "metadata": {
    "collapsed": false
   },
   "outputs": [
    {
     "name": "stdout",
     "output_type": "stream",
     "text": [
      " 25.707735 seconds (202.18 M allocations: 7.155 GB, 4.06% gc time)\n"
     ]
    }
   ],
   "source": [
    "jmax=256\n",
    "xconstante=[64,64]\n",
    "Kduras=zeros(jmax,jmax);\n",
    "@time for j=1:jmax\n",
    "     xj=ConjuntoDeCoordenadasTotal[j]\n",
    "     for k=1:j\n",
    "            xk=ConjuntoDeCoordenadasTotal[k]\n",
    "        for l=1:jmax\n",
    "            xl=ConjuntoDeCoordenadasTotal[l]\n",
    "            Kduras[j,k] += BceroDura[(xk-xl+xconstante)...] * BceroDura[(xj-xl+xconstante)...]\n",
    "            end\n",
    "    end\n",
    "end"
   ]
  },
  {
   "cell_type": "code",
   "execution_count": 239,
   "metadata": {
    "collapsed": false
   },
   "outputs": [
    {
     "name": "stdout",
     "output_type": "stream",
     "text": [
      "1615.891876 seconds (13.44 G allocations: 464.512 GB, 4.16% gc time)\n"
     ]
    }
   ],
   "source": [
    "jmax=1024\n",
    "xconstante=[64,64]\n",
    "Kduras=zeros(jmax,jmax);\n",
    "@time for j=1:jmax\n",
    "     xj=ConjuntoDeCoordenadasTotal[j]\n",
    "     for k=1:j\n",
    "            xk=ConjuntoDeCoordenadasTotal[k]\n",
    "        for l=1:jmax\n",
    "            xl=ConjuntoDeCoordenadasTotal[l]\n",
    "            Kduras[j,k] += BceroDura[(xk-xl+xconstante)...] * BceroDura[(xj-xl+xconstante)...]\n",
    "            end\n",
    "    end\n",
    "end"
   ]
  },
  {
   "cell_type": "code",
   "execution_count": null,
   "metadata": {
    "collapsed": true
   },
   "outputs": [],
   "source": []
  }
 ],
 "metadata": {
  "kernelspec": {
   "display_name": "Julia 0.4.0",
   "language": "julia",
   "name": "julia-0.4"
  },
  "language_info": {
   "file_extension": ".jl",
   "mimetype": "application/julia",
   "name": "julia",
   "version": "0.4.0"
  }
 },
 "nbformat": 4,
 "nbformat_minor": 0
}
