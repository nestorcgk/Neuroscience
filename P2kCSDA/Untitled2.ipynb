{
 "cells": [
  {
   "cell_type": "code",
   "execution_count": 1,
   "metadata": {
    "collapsed": false
   },
   "outputs": [
    {
     "name": "stderr",
     "output_type": "stream",
     "text": [
      "INFO: Cloning Plots from https://github.com/tbreloff/Plots.jl.git\n"
     ]
    },
    {
     "ename": "LoadError",
     "evalue": "LoadError: unlink: no such file or directory (ENOENT)\nwhile loading In[1], in expression starting on line 1",
     "output_type": "error",
     "traceback": [
      "LoadError: unlink: no such file or directory (ENOENT)\nwhile loading In[1], in expression starting on line 1",
      "",
      " in unlink at fs.jl:102",
      " in rm at file.jl:59",
      " in clone at pkg/entry.jl:162",
      " in clone at pkg/entry.jl:186",
      " in anonymous at pkg/dir.jl:31",
      " in cd at file.jl:22",
      " in cd at pkg/dir.jl:31",
      " in clone at pkg.jl:34"
     ]
    }
   ],
   "source": [
    "Pkg.clone(\"https://github.com/tbreloff/Plots.jl.git\")"
   ]
  },
  {
   "cell_type": "code",
   "execution_count": null,
   "metadata": {
    "collapsed": true
   },
   "outputs": [],
   "source": []
  }
 ],
 "metadata": {
  "kernelspec": {
   "display_name": "Julia 0.4.0",
   "language": "julia",
   "name": "julia-0.4"
  },
  "language_info": {
   "file_extension": ".jl",
   "mimetype": "application/julia",
   "name": "julia",
   "version": "0.4.0"
  }
 },
 "nbformat": 4,
 "nbformat_minor": 1
}
